{
 "cells": [
  {
   "cell_type": "code",
   "execution_count": 8,
   "metadata": {
    "collapsed": false
   },
   "outputs": [
    {
     "name": "stdout",
     "output_type": "stream",
     "text": [
      "0.015625\n"
     ]
    },
    {
     "name": "stderr",
     "output_type": "stream",
     "text": [
      "/anaconda/lib/python2.7/site-packages/ipykernel/__main__.py:44: DeprecationWarning: using a non-integer number instead of an integer will result in an error in the future\n",
      "/anaconda/lib/python2.7/site-packages/ipykernel/__main__.py:45: DeprecationWarning: using a non-integer number instead of an integer will result in an error in the future\n",
      "/anaconda/lib/python2.7/site-packages/ipykernel/__main__.py:49: DeprecationWarning: using a non-integer number instead of an integer will result in an error in the future\n",
      "/anaconda/lib/python2.7/site-packages/ipykernel/__main__.py:53: DeprecationWarning: using a non-integer number instead of an integer will result in an error in the future\n"
     ]
    }
   ],
   "source": [
    "%matplotlib inline\n",
    "import pyamg\n",
    "from numpy import *\n",
    "%matplotlib inline\n",
    "from matplotlib.pyplot import *\n",
    "def indices_ptoc(i,j,ny):\n",
    "    ind = ny*i +j\n",
    "    return( ind)\n",
    "def indices_ctop(ind,ny):\n",
    "    j=ind%ny\n",
    "    i=(ind-j)/ny\n",
    "    return(i,j)\n",
    "def get_vort(vxo,vyo,nx,ny):\n",
    "    vorto=zeros_like(vxo)\n",
    "    for i in arange(1,nx-1):\n",
    "        for j in arange(1,ny-1):\n",
    "            vorto[i,j] =(vxo[i,j+1]-vxo[i,j-1])/(2.*dy)\\\n",
    "            -(vyo[i+1,j]-vyo[i-1,j])/(2.*dx)\n",
    "    return vorto\n",
    "def get_vort2(vxo,vyo,nx,ny,dx,dy):\n",
    "    vorto=zeros_like(vxo)\n",
    "    for i in arange(1,nx-1):\n",
    "        for j in arange(1,ny-1):\n",
    "            vorto[i,j] =(vxo[i,j+1]-vxo[i,j-1])/(2.*dy)\\\n",
    "            -(vyo[i+1,j]-vyo[i-1,j])/(2.*dx)\n",
    "    return vorto\n",
    "nx = 66\n",
    "ny=66\n",
    "i=0\n",
    "cnt=0\n",
    "extent = 1.#4.442882938158366247015880990060693698614621689375690223085\n",
    "global dx\n",
    "\n",
    "xstart =-0.0\n",
    "ystart =-0.0\n",
    "nghosts =1.\n",
    "nxmghost=64\n",
    "nymghost=64\n",
    "nx = nxmghost+2*nghosts;\n",
    "ny=nymghost+2*nghosts;\n",
    "global dy\n",
    "dx=extent/nxmghost\n",
    "dy=extent/nymghost\n",
    "print dx\n",
    "\n",
    "xl=zeros(nx)\n",
    "yl=zeros(ny)\n",
    "\n",
    "for i in arange(0,nx):\n",
    "\n",
    "    xl[i]=xstart+dx*(i+.5-nghosts);#dx*(i+1)#-nx/2)\n",
    "\n",
    "for i in arange(0,ny):\n",
    "\n",
    "    yl[i]=ystart+dy*(i+.5-nghosts)#-dx*(nx/2-1-i)\n",
    "\n",
    "\n",
    "\n"
   ]
  },
  {
   "cell_type": "code",
   "execution_count": 24,
   "metadata": {
    "collapsed": false
   },
   "outputs": [
    {
     "name": "stdout",
     "output_type": "stream",
     "text": [
      "[-0.0078125  0.0078125  0.0234375  0.0390625  0.0546875  0.0703125\n",
      "  0.0859375  0.1015625  0.1171875  0.1328125  0.1484375  0.1640625\n",
      "  0.1796875  0.1953125  0.2109375  0.2265625  0.2421875  0.2578125\n",
      "  0.2734375  0.2890625  0.3046875  0.3203125  0.3359375  0.3515625\n",
      "  0.3671875  0.3828125  0.3984375  0.4140625  0.4296875  0.4453125\n",
      "  0.4609375  0.4765625  0.4921875  0.5078125  0.5234375  0.5390625\n",
      "  0.5546875  0.5703125  0.5859375  0.6015625  0.6171875  0.6328125\n",
      "  0.6484375  0.6640625  0.6796875  0.6953125  0.7109375  0.7265625\n",
      "  0.7421875  0.7578125  0.7734375  0.7890625  0.8046875  0.8203125\n",
      "  0.8359375  0.8515625  0.8671875  0.8828125  0.8984375  0.9140625\n",
      "  0.9296875  0.9453125  0.9609375  0.9765625  0.9921875  1.0078125]\n"
     ]
    }
   ],
   "source": [
    "print yl"
   ]
  },
  {
   "cell_type": "code",
   "execution_count": 27,
   "metadata": {
    "collapsed": false
   },
   "outputs": [
    {
     "name": "stdout",
     "output_type": "stream",
     "text": [
      "[ 1.0078431   0.99221794  0.97683502  0.9616906   0.94678097  0.93210249\n",
      "  0.91765158  0.90342471  0.88941841  0.87562926  0.86205388  0.84868898\n",
      "  0.83553127  0.82257756  0.80982468  0.79726951  0.78490899  0.77274011\n",
      "  0.76075988  0.74896539  0.73735376  0.72592215  0.71466777  0.70358787\n",
      "  0.69267976  0.68194075  0.67136824  0.66095964  0.65071241  0.64062405\n",
      "  0.63069209  0.62091412  0.61128774  0.6018106   0.59248039  0.58329484\n",
      "  0.57425169  0.56534874  0.55658382  0.54795479  0.53945954  0.53109599\n",
      "  0.52286211  0.51475589  0.50677533  0.49891851  0.4911835   0.4835684\n",
      "  0.47607137  0.46869057  0.46142419  0.45427047  0.44722766  0.44029404\n",
      "  0.43346791  0.42674762  0.42013151  0.41361797  0.40720542  0.40089229\n",
      "  0.39467703  0.38855813  0.38253409  0.37660345  0.37076476  0.36501658]\n"
     ]
    },
    {
     "data": {
      "text/plain": [
       "[<matplotlib.lines.Line2D at 0x109836c10>]"
      ]
     },
     "execution_count": 27,
     "metadata": {},
     "output_type": "execute_result"
    },
    {
     "data": {
      "image/png": "[encoded data removed]",
      "text/plain": [
       "<matplotlib.figure.Figure at 0x1097b2c90>"
      ]
     },
     "metadata": {},
     "output_type": "display_data"
    }
   ],
   "source": [
    "\n",
    "rho0=1.\n",
    "g=-1.\n",
    "cs=1.\n",
    "H = -g/cs/cs\n",
    "\n",
    "rho_prov=exp(-yl/H)\n",
    "print rho_prov\n",
    "plot(yl,rho_prov)\n"
   ]
  },
  {
   "cell_type": "code",
   "execution_count": null,
   "metadata": {
    "collapsed": true
   },
   "outputs": [],
   "source": []
  }
 ],
 "metadata": {
  "kernelspec": {
   "display_name": "Python 2",
   "language": "python",
   "name": "python2"
  },
  "language_info": {
   "codemirror_mode": {
    "name": "ipython",
    "version": 2
   },
   "file_extension": ".py",
   "mimetype": "text/x-python",
   "name": "python",
   "nbconvert_exporter": "python",
   "pygments_lexer": "ipython2",
   "version": "2.7.11"
  }
 },
 "nbformat": 4,
 "nbformat_minor": 0
}
