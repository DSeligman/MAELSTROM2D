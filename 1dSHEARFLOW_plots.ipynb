{
 "cells": [
  {
   "cell_type": "code",
   "execution_count": 1,
   "metadata": {
    "collapsed": false
   },
   "outputs": [
    {
     "name": "stderr",
     "output_type": "stream",
     "text": [
      "//anaconda/lib/python2.7/site-packages/matplotlib/font_manager.py:273: UserWarning: Matplotlib is building the font cache using fc-list. This may take a moment.\n",
      "  warnings.warn('Matplotlib is building the font cache using fc-list. This may take a moment.')\n"
     ]
    }
   ],
   "source": [
    "%matplotlib inline\n",
    "import pyamg\n",
    "from numpy import *\n",
    "%matplotlib inline\n",
    "from matplotlib.pyplot import *\n",
    "def indices_ptoc(i,j,ny):\n",
    "    ind = ny*i +j\n",
    "    return( ind)\n",
    "def indices_ctop(ind,ny):\n",
    "    j=ind%ny\n",
    "    i=(ind-j)/ny\n",
    "    return(i,j)\n",
    "def get_vort(vxo,vyo,nx,ny):\n",
    "    vorto=zeros_like(vxo)\n",
    "    for i in arange(1,nx-1):\n",
    "        for j in arange(1,ny-1):\n",
    "            vorto[i,j] =(vxo[i,j+1]-vxo[i,j-1])/(2.*dy)\\\n",
    "            -(vyo[i+1,j]-vyo[i-1,j])/(2.*dx)\n",
    "    return vorto\n",
    "def get_vort2(vxo,vyo,nx,ny,dx,dy):\n",
    "    vorto=zeros_like(vxo)\n",
    "    for i in arange(1,nx-1):\n",
    "        for j in arange(1,ny-1):\n",
    "            vorto[i,j] =(vxo[i,j+1]-vxo[i,j-1])/(2.*dy)\\\n",
    "            -(vyo[i+1,j]-vyo[i-1,j])/(2.*dx)\n",
    "    return vorto\n",
    "nx = 66\n",
    "ny=66\n",
    "i=0\n",
    "cnt=0\n",
    "extent = 1.\n",
    "global dx\n",
    "dx=extent/nx\n",
    "#dx=1.                                                                           \n",
    "global dy\n",
    "dy=extent/ny\n",
    "\n",
    "xl=zeros(nx)\n",
    "yl=zeros(ny)\n",
    "\n",
    "for i in arange(0,nx):\n",
    "    if i<nx/2:\n",
    "        xl[i]=-dx*(nx/2-1-i)\n",
    "    if i>=nx/2:\n",
    "        xl[i]=dx*(i+1-nx/2)\n",
    "\n",
    "for i in arange(0,ny):\n",
    "    if i<nx/2:\n",
    "        yl[i]=-dx*(nx/2-1-i)\n",
    "    if i>=nx/2:\n",
    "        yl[i]=dx*(i+1-ny/2)\n",
    "\n"
   ]
  },
  {
   "cell_type": "code",
   "execution_count": 2,
   "metadata": {
    "collapsed": false
   },
   "outputs": [],
   "source": [
    "vx=loadtxt(\"ux.txt\",delimiter=',',dtype='string')\n",
    "vy=loadtxt(\"uy.txt\",delimiter=',',dtype='string')\n",
    "rho=loadtxt(\"rho.txt\",delimiter=',',dtype='string')\n",
    "En=loadtxt(\"E.txt\",delimiter=',',dtype='string')"
   ]
  },
  {
   "cell_type": "code",
   "execution_count": 4,
   "metadata": {
    "collapsed": false
   },
   "outputs": [],
   "source": [
    "#nx = 64\n",
    "#ny=64\n",
    "vxo=zeros((nx,ny))\n",
    "vyo=zeros((nx,ny))\n",
    "dno=zeros((nx,ny),dtype='double')\n",
    "E=zeros((nx,ny),dtype='double')\n",
    "\n",
    "vxo0=zeros((nx,ny))\n",
    "vyo0=zeros((nx,ny))\n",
    "dno0=zeros((nx,ny),dtype='double')\n",
    "E0=zeros((nx,ny),dtype='double')\n",
    "\n",
    "ind1=103\n",
    "for ind in arange(0,nx*ny):\n",
    "    #dno[indices_ctop(ind,ny)]=density[150][ind]\n",
    "    vxo[indices_ctop(ind,ny)]=vx[ind1][ind]\n",
    "    vyo[indices_ctop(ind,ny)]=vy[ind1][ind]\n",
    "    dno[indices_ctop(ind,ny)]=rho[ind1][ind]\n",
    "    E[indices_ctop(ind,ny)]=En[ind1][ind]\n",
    "    vxo0[indices_ctop(ind,ny)]=vx[0][ind]\n",
    "    vyo0[indices_ctop(ind,ny)]=vy[0][ind]\n",
    "    dno0[indices_ctop(ind,ny)]=rho[0][ind]\n",
    "    E0[indices_ctop(ind,ny)]=En[0][ind]\n",
    "    "
   ]
  },
  {
   "cell_type": "code",
   "execution_count": 5,
   "metadata": {
    "collapsed": false
   },
   "outputs": [
    {
     "data": {
      "text/plain": [
       "<matplotlib.colorbar.Colorbar at 0x109bee690>"
      ]
     },
     "execution_count": 5,
     "metadata": {},
     "output_type": "execute_result"
    },
    {
     "data": {
      "image/png": "[encoded data removed]",
      "text/plain": [
       "<matplotlib.figure.Figure at 0x108b56190>"
      ]
     },
     "metadata": {},
     "output_type": "display_data"
    },
    {
     "data": {
      "image/png": "[encoded data removed]",
      "text/plain": [
       "<matplotlib.figure.Figure at 0x1061d6bd0>"
      ]
     },
     "metadata": {},
     "output_type": "display_data"
    }
   ],
   "source": [
    "imshow(vxo.T)#,vmin=.99999,vmax=1.00001)\n",
    "colorbar()\n",
    "figure(2)\n",
    "imshow(vxo0.T)\n",
    "colorbar()\n",
    "#print dno[0,0]\n",
    "#print dno.T.shape\n",
    "#print vxo[25,:]\n",
    "#print E[50,:]\n",
    "#print En[37][100:500]"
   ]
  },
  {
   "cell_type": "code",
   "execution_count": 6,
   "metadata": {
    "collapsed": false
   },
   "outputs": [
    {
     "data": {
      "image/png": "[encoded data removed]",
      "text/plain": [
       "<matplotlib.figure.Figure at 0x108d0f4d0>"
      ]
     },
     "metadata": {},
     "output_type": "display_data"
    }
   ],
   "source": [
    "plot(xl,vxo0.T[:,nx/2],'k',label='Initial')\n",
    "plot(xl[::1],vxo.T[::1,nx/2],'bo',label = 'Evolved')\n",
    "#plot(xl,dno0.T[:,nx/2],'k',label='Initial')\n",
    "#plot(xl[::3],dno.T[::3,nx/2],'bo',label = 'Evolved')\n",
    "legend()\n",
    "xlabel('y')\n",
    "ylabel('U')\n",
    "savefig(\"1dShear_U_64.pdf\")"
   ]
  },
  {
   "cell_type": "code",
   "execution_count": 7,
   "metadata": {
    "collapsed": false
   },
   "outputs": [
    {
     "data": {
      "text/plain": [
       "<matplotlib.text.Text at 0x105fcd7d0>"
      ]
     },
     "execution_count": 7,
     "metadata": {},
     "output_type": "execute_result"
    },
    {
     "data": {
      "image/png": "[encoded data removed]",
      "text/plain": [
       "<matplotlib.figure.Figure at 0x108e361d0>"
      ]
     },
     "metadata": {},
     "output_type": "display_data"
    }
   ],
   "source": [
    "plot(xl,dno0.T[:,nx/2],'k',label='Initial')\n",
    "plot(xl[::3],dno.T[::3,nx/2],'bo',label = 'Evolved')\n",
    "legend()\n",
    "xlabel('y')\n",
    "ylabel('U')\n",
    "#savefig('1dshear_rho.pdf')\n"
   ]
  },
  {
   "cell_type": "code",
   "execution_count": 5,
   "metadata": {
    "collapsed": false
   },
   "outputs": [
    {
     "name": "stdout",
     "output_type": "stream",
     "text": [
      "1.60000000005e-07\n",
      "5.13888439983e-07\n",
      "2.88445540015e-07\n",
      "0.0\n",
      "6.10640776811e-07\n"
     ]
    }
   ],
   "source": [
    "deltaqrho = 1./(2.*ny*ny)*sum(abs(dno-dno0))\n",
    "deltaqs1 = 1./(2.*ny*ny)*sum(abs(dno*vxo-dno0*vxo0))\n",
    "deltaqs2 = 1./(2.*ny*ny)*sum(abs(dno*vyo-dno0*vyo0))\n",
    "deltaqE = 1./(2.*ny*ny)*sum(abs(E-E0))\n",
    "print deltaqrho\n",
    "print deltaqs1\n",
    "print deltaqs2\n",
    "print deltaqE\n",
    "print sqrt(deltaqrho**2+deltaqs1**2+deltaqs2**2+deltaqE**2)"
   ]
  },
  {
   "cell_type": "code",
   "execution_count": 577,
   "metadata": {
    "collapsed": false
   },
   "outputs": [
    {
     "name": "stdout",
     "output_type": "stream",
     "text": [
      "3.9999999999e-07\n"
     ]
    }
   ],
   "source": [
    "deltaqk = 1./(2.*50.*50.)*sum(abs(dno-dno0))\n",
    "print deltaqk"
   ]
  },
  {
   "cell_type": "code",
   "execution_count": null,
   "metadata": {
    "collapsed": true
   },
   "outputs": [],
   "source": []
  }
 ],
 "metadata": {
  "kernelspec": {
   "display_name": "Python 2",
   "language": "python",
   "name": "python2"
  },
  "language_info": {
   "codemirror_mode": {
    "name": "ipython",
    "version": 2
   },
   "file_extension": ".py",
   "mimetype": "text/x-python",
   "name": "python",
   "nbconvert_exporter": "python",
   "pygments_lexer": "ipython2",
   "version": "2.7.11"
  }
 },
 "nbformat": 4,
 "nbformat_minor": 0
}
